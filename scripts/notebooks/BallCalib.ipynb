{
 "cells": [
  {
   "cell_type": "code",
   "execution_count": 50,
   "metadata": {},
   "outputs": [],
   "source": [
    "import sys\n",
    "import cv2 as cv"
   ]
  },
  {
   "cell_type": "code",
   "execution_count": 51,
   "metadata": {},
   "outputs": [],
   "source": [
    "cap = cv.VideoCapture(0)\n",
    "win_name = 'Ball Calibration'\n",
    "\n",
    "if not cap.isOpened():\n",
    "    print(\"unable to open camera\")\n",
    "    sys.exit(-1)\n",
    "\n",
    "cv.namedWindow(win_name)\n",
    "\n",
    "def onTrackBarUpdate(x):\n",
    "    pass"
   ]
  },
  {
   "cell_type": "code",
   "execution_count": 52,
   "metadata": {},
   "outputs": [],
   "source": [
    "cv.createTrackbar('Red Min', win_name, 0, 255, onTrackBarUpdate)\n",
    "cv.createTrackbar('Green Min', win_name, 0, 255, onTrackBarUpdate)\n",
    "cv.createTrackbar('Blue Min', win_name, 0, 255, onTrackBarUpdate)\n",
    "\n",
    "cv.createTrackbar('Red Max', win_name, 0, 255, onTrackBarUpdate)\n",
    "cv.createTrackbar('Green Max', win_name, 0, 255, onTrackBarUpdate)\n",
    "cv.createTrackbar('Blue Max', win_name, 0, 255, onTrackBarUpdate)"
   ]
  },
  {
   "cell_type": "code",
   "execution_count": 53,
   "metadata": {},
   "outputs": [],
   "source": [
    "while cap.isOpened():\n",
    "    ret_code, base_frame = cap.read()\n",
    "    trackbars = {\n",
    "        'r_min': cv.getTrackbarPos('Red Min', win_name),\n",
    "        'g_min': cv.getTrackbarPos('Green Min', win_name),\n",
    "        'b_min': cv.getTrackbarPos('Blue Min', win_name),\n",
    "        'r_max': cv.getTrackbarPos('Red Max', win_name),\n",
    "        'g_max': cv.getTrackbarPos('Green Max', win_name),\n",
    "        'b_max': cv.getTrackbarPos('Blue Max', win_name)\n",
    "    }\n",
    "\n",
    "    if ret_code:\n",
    "        hsv = cv.cvtColor(base_frame, cv.COLOR_BGR2HSV)\n",
    "        threshed = cv.inRange(\n",
    "            hsv, \n",
    "            (trackbars['b_min'], trackbars['g_min'], trackbars['r_min']), \n",
    "            (trackbars['b_max'], trackbars['g_max'], trackbars['r_max']), \n",
    "        )\n",
    "\n",
    "        #status, stitched = cv.Stitcher_create().stitch([hsv, threshed])\n",
    "        \n",
    "        try:\n",
    "            cv.imshow(win_name, hsv) \n",
    "            cv.imshow(win_name, threshed) \n",
    "        except Exception as err:\n",
    "            print('[ERROR] failed to stitch images')\n",
    "            print('[ERROR] {}'.format(err))\n",
    "            break\n",
    "\n",
    "    # Press Q on keyboard to  exit\n",
    "    if cv.waitKey(27) & 0xFF == ord('q'):\n",
    "        break"
   ]
  },
  {
   "cell_type": "code",
   "execution_count": 54,
   "metadata": {},
   "outputs": [],
   "source": [
    "cap.release()\n",
    "cv.destroyAllWindows()"
   ]
  }
 ],
 "metadata": {
  "interpreter": {
   "hash": "916dbcbb3f70747c44a77c7bcd40155683ae19c65e1c03b4aa3499c5328201f1"
  },
  "kernelspec": {
   "display_name": "Python 3.9.7 64-bit",
   "language": "python",
   "name": "python3"
  },
  "language_info": {
   "codemirror_mode": {
    "name": "ipython",
    "version": 3
   },
   "file_extension": ".py",
   "mimetype": "text/x-python",
   "name": "python",
   "nbconvert_exporter": "python",
   "pygments_lexer": "ipython3",
   "version": "3.9.7"
  },
  "orig_nbformat": 4
 },
 "nbformat": 4,
 "nbformat_minor": 2
}
